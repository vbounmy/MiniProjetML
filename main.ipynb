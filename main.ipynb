{
 "cells": [
  {
   "cell_type": "markdown",
   "id": "ff5638aa",
   "metadata": {},
   "source": [
    "## **MINI-PROJET 1 :** Prédiction du risque d'abandon scolaire"
   ]
  },
  {
   "cell_type": "markdown",
   "id": "16ad0dec",
   "metadata": {},
   "source": [
    "### **Consignes**"
   ]
  },
  {
   "cell_type": "markdown",
   "id": "bce948db",
   "metadata": {},
   "source": [
    "1. **Prétraitement des données :** gérer les variables catégorielles, vérifier les valeurs manquantes, explorer la distribution des variables.\n",
    "\n",
    "\n",
    "2. **Exploration des corrélations** et visualisation des données (PCA ?).\n",
    "\n",
    "\n",
    "3. **Choix d’un ou plusieurs modèles de classification** parmi ceux étudiés (KNN, arbre de décision, régression logistique, KMeans).\n",
    "\n",
    "\n",
    "4. **Évaluation des performances :** utilisez accuracy, recall, precision, f1-score et matrice de confusion.\n",
    "\n",
    "\n",
    "5. **Recherche des meilleurs hyperparamètres** avec GridSearch et validation croisée.\n",
    "\n",
    "\n",
    "6. **Analyse critique des résultats :**\n",
    "- Quels modèles fonctionnent le mieux ? Pourquoi ?\n",
    "- Quelles sont les limites du modèle ? Des données ?\n",
    "- Quelle interprétation peut-on faire des métriques obtenues ?\n",
    "- Que signifie une bonne ou mauvaise précision dans ce contexte ?\n",
    "\n",
    "\n",
    "**Attention : la partie interprétation comptera pour 50% de la note finale.** Il ne s’agit pas uniquement d’écrire du code mais de démontrer votre compréhension du problème."
   ]
  },
  {
   "cell_type": "markdown",
   "id": "a4eed453",
   "metadata": {},
   "source": [
    "### **1. Prétraitement des données**"
   ]
  },
  {
   "cell_type": "code",
   "execution_count": 8,
   "id": "dfcbf3e3",
   "metadata": {},
   "outputs": [
    {
     "data": {
      "text/html": [
       "<div>\n",
       "<style scoped>\n",
       "    .dataframe tbody tr th:only-of-type {\n",
       "        vertical-align: middle;\n",
       "    }\n",
       "\n",
       "    .dataframe tbody tr th {\n",
       "        vertical-align: top;\n",
       "    }\n",
       "\n",
       "    .dataframe thead th {\n",
       "        text-align: right;\n",
       "    }\n",
       "</style>\n",
       "<table border=\"1\" class=\"dataframe\">\n",
       "  <thead>\n",
       "    <tr style=\"text-align: right;\">\n",
       "      <th></th>\n",
       "      <th>Age</th>\n",
       "      <th>Sexe</th>\n",
       "      <th>Taux_presence</th>\n",
       "      <th>Nombre_retards</th>\n",
       "      <th>Note_moyenne</th>\n",
       "      <th>Situation_familiale</th>\n",
       "      <th>Abandon</th>\n",
       "    </tr>\n",
       "  </thead>\n",
       "  <tbody>\n",
       "    <tr>\n",
       "      <th>0</th>\n",
       "      <td>21</td>\n",
       "      <td>Femme</td>\n",
       "      <td>89.585023</td>\n",
       "      <td>2</td>\n",
       "      <td>15.826896</td>\n",
       "      <td>Enfants à charge</td>\n",
       "      <td>0</td>\n",
       "    </tr>\n",
       "    <tr>\n",
       "      <th>1</th>\n",
       "      <td>20</td>\n",
       "      <td>Homme</td>\n",
       "      <td>70.713068</td>\n",
       "      <td>3</td>\n",
       "      <td>12.829358</td>\n",
       "      <td>Célibataire</td>\n",
       "      <td>0</td>\n",
       "    </tr>\n",
       "    <tr>\n",
       "      <th>2</th>\n",
       "      <td>22</td>\n",
       "      <td>Femme</td>\n",
       "      <td>82.122963</td>\n",
       "      <td>1</td>\n",
       "      <td>13.086319</td>\n",
       "      <td>Enfants à charge</td>\n",
       "      <td>0</td>\n",
       "    </tr>\n",
       "    <tr>\n",
       "      <th>3</th>\n",
       "      <td>24</td>\n",
       "      <td>Homme</td>\n",
       "      <td>87.408859</td>\n",
       "      <td>3</td>\n",
       "      <td>14.992032</td>\n",
       "      <td>Célibataire</td>\n",
       "      <td>0</td>\n",
       "    </tr>\n",
       "    <tr>\n",
       "      <th>4</th>\n",
       "      <td>20</td>\n",
       "      <td>Homme</td>\n",
       "      <td>86.470676</td>\n",
       "      <td>3</td>\n",
       "      <td>12.671649</td>\n",
       "      <td>Marié</td>\n",
       "      <td>0</td>\n",
       "    </tr>\n",
       "    <tr>\n",
       "      <th>...</th>\n",
       "      <td>...</td>\n",
       "      <td>...</td>\n",
       "      <td>...</td>\n",
       "      <td>...</td>\n",
       "      <td>...</td>\n",
       "      <td>...</td>\n",
       "      <td>...</td>\n",
       "    </tr>\n",
       "    <tr>\n",
       "      <th>1995</th>\n",
       "      <td>23</td>\n",
       "      <td>Femme</td>\n",
       "      <td>81.800974</td>\n",
       "      <td>3</td>\n",
       "      <td>12.496245</td>\n",
       "      <td>Marié</td>\n",
       "      <td>0</td>\n",
       "    </tr>\n",
       "    <tr>\n",
       "      <th>1996</th>\n",
       "      <td>20</td>\n",
       "      <td>Homme</td>\n",
       "      <td>84.082873</td>\n",
       "      <td>4</td>\n",
       "      <td>13.125663</td>\n",
       "      <td>Célibataire</td>\n",
       "      <td>0</td>\n",
       "    </tr>\n",
       "    <tr>\n",
       "      <th>1997</th>\n",
       "      <td>19</td>\n",
       "      <td>Femme</td>\n",
       "      <td>87.114146</td>\n",
       "      <td>1</td>\n",
       "      <td>13.841282</td>\n",
       "      <td>Célibataire</td>\n",
       "      <td>0</td>\n",
       "    </tr>\n",
       "    <tr>\n",
       "      <th>1998</th>\n",
       "      <td>20</td>\n",
       "      <td>Femme</td>\n",
       "      <td>83.799064</td>\n",
       "      <td>3</td>\n",
       "      <td>12.061256</td>\n",
       "      <td>Célibataire</td>\n",
       "      <td>0</td>\n",
       "    </tr>\n",
       "    <tr>\n",
       "      <th>1999</th>\n",
       "      <td>19</td>\n",
       "      <td>Homme</td>\n",
       "      <td>74.887951</td>\n",
       "      <td>6</td>\n",
       "      <td>9.467544</td>\n",
       "      <td>Célibataire</td>\n",
       "      <td>1</td>\n",
       "    </tr>\n",
       "  </tbody>\n",
       "</table>\n",
       "<p>2000 rows × 7 columns</p>\n",
       "</div>"
      ],
      "text/plain": [
       "      Age   Sexe  Taux_presence  Nombre_retards  Note_moyenne  \\\n",
       "0      21  Femme      89.585023               2     15.826896   \n",
       "1      20  Homme      70.713068               3     12.829358   \n",
       "2      22  Femme      82.122963               1     13.086319   \n",
       "3      24  Homme      87.408859               3     14.992032   \n",
       "4      20  Homme      86.470676               3     12.671649   \n",
       "...   ...    ...            ...             ...           ...   \n",
       "1995   23  Femme      81.800974               3     12.496245   \n",
       "1996   20  Homme      84.082873               4     13.125663   \n",
       "1997   19  Femme      87.114146               1     13.841282   \n",
       "1998   20  Femme      83.799064               3     12.061256   \n",
       "1999   19  Homme      74.887951               6      9.467544   \n",
       "\n",
       "     Situation_familiale  Abandon  \n",
       "0       Enfants à charge        0  \n",
       "1            Célibataire        0  \n",
       "2       Enfants à charge        0  \n",
       "3            Célibataire        0  \n",
       "4                  Marié        0  \n",
       "...                  ...      ...  \n",
       "1995               Marié        0  \n",
       "1996         Célibataire        0  \n",
       "1997         Célibataire        0  \n",
       "1998         Célibataire        0  \n",
       "1999         Célibataire        1  \n",
       "\n",
       "[2000 rows x 7 columns]"
      ]
     },
     "execution_count": 8,
     "metadata": {},
     "output_type": "execute_result"
    }
   ],
   "source": [
    "import pandas\n",
    "\n",
    "from sklearn.compose import ColumnTransformer\n",
    "from sklearn.preprocessing import OneHotEncoder\n",
    "from sklearn.pipeline import Pipeline\n",
    "from sklearn.tree import DecisionTreeClassifier\n",
    "\n",
    "data_df = pandas.read_csv(\"Dataset_Abandon_Scolaire.csv\")\n",
    "\n",
    "data_df"
   ]
  },
  {
   "cell_type": "markdown",
   "id": "3f461fda",
   "metadata": {},
   "source": [
    "Gestion des variables catégorielles :"
   ]
  },
  {
   "cell_type": "code",
   "execution_count": 11,
   "id": "7ac24a4b",
   "metadata": {},
   "outputs": [],
   "source": [
    "categorial_features = [\"Sexe\", \"Situation_familiale\"]\n",
    "numeric_features = [\"Age\", \"Taux_presence\", \"Nombre_retards\", \"Note_moyenne\", \"Abandon\"]\n",
    "\n",
    "preprocessor = ColumnTransformer(\n",
    "    transformers=[('cat', OneHotEncoder(handle_unknown='ignore'), categorial_features)],\n",
    "    remainder='passthrough'\n",
    ")\n",
    "\n",
    "pipeline = Pipeline(steps=[\n",
    "    ('preprocessor', preprocessor),\n",
    "    ('classifier', DecisionTreeClassifier())\n",
    "])"
   ]
  },
  {
   "cell_type": "markdown",
   "id": "21e5e4b1",
   "metadata": {},
   "source": [
    "Vérification des valeurs manquantes :"
   ]
  },
  {
   "cell_type": "code",
   "execution_count": 5,
   "id": "1add1961",
   "metadata": {},
   "outputs": [
    {
     "data": {
      "text/plain": [
       "Age                    0\n",
       "Sexe                   0\n",
       "Taux_presence          0\n",
       "Nombre_retards         0\n",
       "Note_moyenne           0\n",
       "Situation_familiale    0\n",
       "Abandon                0\n",
       "dtype: int64"
      ]
     },
     "execution_count": 5,
     "metadata": {},
     "output_type": "execute_result"
    }
   ],
   "source": [
    "data_df.apply(lambda x: x==\"?\", axis=0).sum()"
   ]
  },
  {
   "cell_type": "markdown",
   "id": "fd35e22c",
   "metadata": {},
   "source": [
    "Il n'y a pas de valeurs manquantes dans le jeu de données.\n",
    "\n",
    "Nombre de personnes en situation d'abandon scolaire :"
   ]
  },
  {
   "cell_type": "code",
   "execution_count": 6,
   "id": "0f1e3918",
   "metadata": {},
   "outputs": [
    {
     "data": {
      "text/plain": [
       "Abandon\n",
       "0          1832\n",
       "1           168\n",
       "Name: count, dtype: int64"
      ]
     },
     "execution_count": 6,
     "metadata": {},
     "output_type": "execute_result"
    }
   ],
   "source": [
    "data_df[[\"Abandon\"]].value_counts()"
   ]
  },
  {
   "cell_type": "markdown",
   "id": "bc0c73a4",
   "metadata": {},
   "source": [
    "On remarque que sur 2000 personnes, 168 (soit 8,4%) sont en situation d'abandon scolaire."
   ]
  },
  {
   "cell_type": "markdown",
   "id": "d384e1ea",
   "metadata": {},
   "source": [
    "### **2. Exploration des corrélations**"
   ]
  }
 ],
 "metadata": {
  "kernelspec": {
   "display_name": "data_env",
   "language": "python",
   "name": "python3"
  },
  "language_info": {
   "codemirror_mode": {
    "name": "ipython",
    "version": 3
   },
   "file_extension": ".py",
   "mimetype": "text/x-python",
   "name": "python",
   "nbconvert_exporter": "python",
   "pygments_lexer": "ipython3",
   "version": "3.13.3"
  }
 },
 "nbformat": 4,
 "nbformat_minor": 5
}
